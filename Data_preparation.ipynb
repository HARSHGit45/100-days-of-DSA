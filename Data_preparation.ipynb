{
  "cells": [
    {
      "cell_type": "markdown",
      "metadata": {
        "id": "view-in-github",
        "colab_type": "text"
      },
      "source": [
        "<a href=\"https://colab.research.google.com/github/HARSHGit45/100-days-of-DSA/blob/main/Data_preparation.ipynb\" target=\"_parent\"><img src=\"https://colab.research.google.com/assets/colab-badge.svg\" alt=\"Open In Colab\"/></a>"
      ]
    },
    {
      "cell_type": "code",
      "execution_count": null,
      "id": "8eb4b77d-0e22-4e1e-9ee6-570f55bb4c92",
      "metadata": {
        "id": "8eb4b77d-0e22-4e1e-9ee6-570f55bb4c92",
        "outputId": "5956fa50-5859-4918-ebc8-930d925fb923"
      },
      "outputs": [
        {
          "name": "stdout",
          "output_type": "stream",
          "text": [
            "Consolidated data has been written to train_dataalli.json\n"
          ]
        }
      ],
      "source": [
        "import json\n",
        "from collections import defaultdict\n",
        "\n",
        "# Load the data from the JSON file\n",
        "input_file = 'train_dataal.json'\n",
        "output_file = 'train_dataalli.json'\n",
        "\n",
        "with open(input_file, 'r') as file:\n",
        "    data = json.load(file)\n",
        "\n",
        "# Use a defaultdict to group expected outputs by prompts\n",
        "consolidated_data = defaultdict(list)\n",
        "\n",
        "for item in data:\n",
        "    prompt = item['prompt']\n",
        "    expected_output = item['expected_output']\n",
        "    if isinstance(expected_output, list):\n",
        "        consolidated_data[prompt].extend(expected_output)\n",
        "    else:\n",
        "        consolidated_data[prompt].append(expected_output)\n",
        "\n",
        "# Convert the defaultdict to a regular dictionary for JSON serialization\n",
        "consolidated_data = dict(consolidated_data)\n",
        "\n",
        "# Create a new structured data list\n",
        "structured_data = [{'prompt': prompt, 'expected_output': outputs} for prompt, outputs in consolidated_data.items()]\n",
        "\n",
        "# Write the consolidated data back to a JSON file\n",
        "with open(output_file, 'w') as file:\n",
        "    json.dump(structured_data, file, indent=4)\n",
        "\n",
        "print(f\"Consolidated data has been written to {output_file}\")\n"
      ]
    },
    {
      "cell_type": "code",
      "execution_count": null,
      "id": "0354aed5-75d1-49d4-855a-d062838980c7",
      "metadata": {
        "id": "0354aed5-75d1-49d4-855a-d062838980c7"
      },
      "outputs": [],
      "source": [
        "\n",
        "import random\n",
        "# Prompts including the new prompt with marks\n",
        "prompts = [\n",
        "    \"Give reference for {} question from {} chapter\",  # Prompt for retrieving reference for a specific question from a specific chapter\n",
        "    \"Generate questions based on {} chapter for {} marks\"  # New prompt for generating questions based on a chapter for specific marks\n",
        "]\n",
        "\n",
        "# Training examples\n",
        "training_examples = []\n",
        "\n",
        "# Generate training examples based on prompts\n",
        "for question_data in data['questions']:\n",
        "\n",
        "    prompt2 = prompts[1].format(question_data['Question'], question_data['Chapter'])\n",
        "    training_examples.append({'prompt': prompt2, 'expected_output': question_data['References']})\n",
        "\n",
        "    # Prompt 3: Generate questions based on a specific chapter for specific marks\n",
        "    prompt3 = prompts[2].format(question_data['Chapter'], question_data['marks'])\n",
        "    training_examples.append({'prompt': prompt3, 'expected_output': question_data['Question']})\n",
        "\n",
        "# Shuffle the training examples\n",
        "random.shuffle(training_examples)\n",
        "\n",
        "\n",
        "train_data = training_examples\n",
        "\n",
        "# Print train and test data sizes for verification\n",
        "print(f\"Train data size: {train_size}\")\n",
        "print(f\"Test data size: {len(test_data)}\")\n",
        "\n",
        "# Optional: Print a few examples for verification\n",
        "print(\"\\nSample training data examples:\")\n",
        "for example in train_data[:3]:\n",
        "    print(example)\n",
        "\n",
        "print(\"\\nSample test data examples:\")\n",
        "for example in test_data[:3]:\n",
        "    print(example)\n"
      ]
    }
  ],
  "metadata": {
    "kernelspec": {
      "display_name": "Python 3 (ipykernel)",
      "language": "python",
      "name": "python3"
    },
    "language_info": {
      "codemirror_mode": {
        "name": "ipython",
        "version": 3
      },
      "file_extension": ".py",
      "mimetype": "text/x-python",
      "name": "python",
      "nbconvert_exporter": "python",
      "pygments_lexer": "ipython3",
      "version": "3.11.9"
    },
    "colab": {
      "provenance": [],
      "include_colab_link": true
    }
  },
  "nbformat": 4,
  "nbformat_minor": 5
}